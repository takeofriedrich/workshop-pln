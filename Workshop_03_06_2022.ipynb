{
  "cells": [
    {
      "cell_type": "markdown",
      "metadata": {
        "id": "G38EiK0E0XCV"
      },
      "source": [
        "# Revisão de Python\n",
        "\n",
        "1 - Crie uma função que receba uma lista de valores e retorne outra lista contendo apenas os elementos presentes nas posições pares.\n",
        "\n",
        "2 - Leia um arquivo de 10 linhas (onde cada linha contém um nome) e apresente o 3º, 4º, 5º e último nome.\n",
        "\n",
        "3 - Leia um arquivo contendo em cada linha um nome e exiba apenas os nomes que\n",
        "iniciam com vogais.\n",
        "\n",
        "4 - Crie uma função que dado uma lista de inteiros, retorne um dicionário com a quantidade de números múltiplos de 2,3 e 5."
      ]
    },
    {
      "cell_type": "code",
      "execution_count": 1,
      "metadata": {
        "id": "4t-OaM6f0U6q"
      },
      "outputs": [
        {
          "name": "stdout",
          "output_type": "stream",
          "text": [
            "[0, 2, 4, 6, 8]\n"
          ]
        }
      ],
      "source": [
        "def pares(valores:list) -> list:\n",
        "  nova = []\n",
        "  for i in range(len(valores)):\n",
        "    if i % 2 == 0:\n",
        "      nova.append(valores[i])\n",
        "  return nova\n",
        "\n",
        "print(pares([0,1,2,3,4,5,6,7,8]))"
      ]
    },
    {
      "cell_type": "code",
      "execution_count": 3,
      "metadata": {
        "colab": {
          "base_uri": "https://localhost:8080/"
        },
        "id": "Qt6_mY9A07uF",
        "outputId": "a317c3b8-8a48-4159-ded9-3f22c9eb9722"
      },
      "outputs": [
        {
          "name": "stdout",
          "output_type": "stream",
          "text": [
            "['Marcela da Luz', 'Bruno Peixoto', 'Eloah Aragão']\n"
          ]
        }
      ],
      "source": [
        "def nomes(caminho) -> None:\n",
        "  file = open(caminho,'r')\n",
        "  linhas = file.read().split('\\n')\n",
        "  print(linhas[2:5])\n",
        "\n",
        "# https://fossbytes.com/tools/random-name-generator\n",
        "nomes('nomes.txt')"
      ]
    },
    {
      "cell_type": "code",
      "execution_count": 4,
      "metadata": {
        "colab": {
          "base_uri": "https://localhost:8080/"
        },
        "id": "CU4_xH3e3PT9",
        "outputId": "800a71de-f85f-4373-8288-60c8ea6255e9"
      },
      "outputs": [
        {
          "name": "stdout",
          "output_type": "stream",
          "text": [
            "Eloah Aragão\n"
          ]
        }
      ],
      "source": [
        "def vogais(caminho) -> None:\n",
        "  file = open(caminho,'r')\n",
        "  linhas = file.read().split('\\n')\n",
        "  for nome in linhas:\n",
        "    if nome[0].lower() in ['a','e','i','o','u']:\n",
        "      print(nome)\n",
        "\n",
        "vogais('nomes.txt')"
      ]
    },
    {
      "cell_type": "code",
      "execution_count": 5,
      "metadata": {
        "colab": {
          "base_uri": "https://localhost:8080/"
        },
        "id": "EJ6mPMnvNMTX",
        "outputId": "ec20d53f-aa6b-4d2f-8269-edb3d4aaa4ab"
      },
      "outputs": [
        {
          "data": {
            "text/plain": [
              "{2: 25, 3: 17, 5: 10}"
            ]
          },
          "execution_count": 5,
          "metadata": {},
          "output_type": "execute_result"
        }
      ],
      "source": [
        "def contadores(inteiros:list) -> dict:\n",
        "  dici = {}\n",
        "  for x in inteiros:\n",
        "    if x % 2 == 0:\n",
        "      if 2 not in dici.keys():\n",
        "        dici[2] = 1\n",
        "      else:\n",
        "        dici[2] += 1\n",
        "    if x % 3 == 0:\n",
        "      if 3 not in dici.keys():\n",
        "        dici[3] = 1\n",
        "      else:\n",
        "        dici[3] += 1\n",
        "    if x % 5 == 0:\n",
        "      if 5 not in dici.keys():\n",
        "        dici[5] = 1\n",
        "      else:\n",
        "        dici[5] += 1\n",
        "  return dici\n",
        "\n",
        "inteiros = [x for x in range(50)]\n",
        "contadores(inteiros)"
      ]
    },
    {
      "cell_type": "markdown",
      "metadata": {
        "id": "H0nYDqqI3kP9"
      },
      "source": [
        "# Spacy"
      ]
    },
    {
      "cell_type": "code",
      "execution_count": 8,
      "metadata": {
        "colab": {
          "base_uri": "https://localhost:8080/"
        },
        "id": "P90ZQ2ex3vtX",
        "outputId": "9ee344e7-fa63-42b2-a4c3-7908d1dda068"
      },
      "outputs": [
        {
          "name": "stdout",
          "output_type": "stream",
          "text": [
            "zsh:1: command not found: python\n",
            "zsh:1: command not found: python\n"
          ]
        }
      ],
      "source": [
        "!python -m spacy download pt_core_news_sm\n",
        "!python -m spacy link pt_core_news_sm pt_br"
      ]
    },
    {
      "cell_type": "code",
      "execution_count": 9,
      "metadata": {
        "id": "aHZ2W4oq3wuQ"
      },
      "outputs": [],
      "source": [
        "import spacy\n",
        "\n",
        "nlp = spacy.load('pt_core_news_sm')\n",
        "# nlp = spacy.load('pt_br')"
      ]
    },
    {
      "cell_type": "markdown",
      "metadata": {
        "id": "yR7p_tzG4HXd"
      },
      "source": [
        "# Tokenização"
      ]
    },
    {
      "cell_type": "code",
      "execution_count": 10,
      "metadata": {
        "id": "kb6fKFPQ4DI_"
      },
      "outputs": [],
      "source": [
        "sentenca = nlp('Era uma vez um cachorro chamado Clifford o gigante cão vermelho.')"
      ]
    },
    {
      "cell_type": "code",
      "execution_count": 11,
      "metadata": {
        "colab": {
          "base_uri": "https://localhost:8080/"
        },
        "id": "CD-MZ6DL34H5",
        "outputId": "0a2253a2-2a37-4471-f0a1-ba8fa2534daf"
      },
      "outputs": [
        {
          "name": "stdout",
          "output_type": "stream",
          "text": [
            "0 Era Xxx\n",
            "1 uma xxx\n",
            "2 vez xxx\n",
            "3 um xx\n",
            "4 cachorro xxxx\n",
            "5 chamado xxxx\n",
            "6 Clifford Xxxxx\n",
            "7 o x\n",
            "8 gigante xxxx\n",
            "9 cão xxx\n",
            "10 vermelho xxxx\n",
            "11 . .\n"
          ]
        }
      ],
      "source": [
        "for token in sentenca:\n",
        "\tprint(token.i,token.text,token.shape_)"
      ]
    },
    {
      "cell_type": "code",
      "execution_count": 12,
      "metadata": {
        "colab": {
          "base_uri": "https://localhost:8080/"
        },
        "id": "Mqq26RR7PN_4",
        "outputId": "9fe80cff-089e-4ded-a4be-b353763a2e4b"
      },
      "outputs": [
        {
          "data": {
            "text/plain": [
              "[Era, uma, vez, um, cachorro, chamado, Clifford, o, gigante, cão, vermelho]"
            ]
          },
          "execution_count": 12,
          "metadata": {},
          "output_type": "execute_result"
        }
      ],
      "source": [
        "soPalavras = []\n",
        "\n",
        "for token in sentenca:\n",
        "\tif not token.is_punct:\n",
        "\t\tsoPalavras.append(token)\n",
        "soPalavras"
      ]
    },
    {
      "cell_type": "code",
      "execution_count": 13,
      "metadata": {
        "id": "l1H80AaUPaoD"
      },
      "outputs": [],
      "source": [
        "for token in sentenca:\n",
        "\tif token.like_email:\n",
        "\t\tprint('Email:',token)"
      ]
    },
    {
      "cell_type": "code",
      "execution_count": 14,
      "metadata": {
        "colab": {
          "base_uri": "https://localhost:8080/"
        },
        "id": "FYAGHc4CPgmN",
        "outputId": "086bfabd-5137-4b5d-8542-162fc7609b58"
      },
      "outputs": [
        {
          "name": "stdout",
          "output_type": "stream",
          "text": [
            "o A A\n",
            "menina m ina\n",
            "de d de\n",
            "verde v rde\n"
          ]
        }
      ],
      "source": [
        "sentenca = nlp('A menina de verde')\n",
        "\n",
        "for token in sentenca:\n",
        "\tprint(token.lemma_,token.prefix_,token.suffix_)"
      ]
    },
    {
      "cell_type": "code",
      "execution_count": 15,
      "metadata": {
        "colab": {
          "base_uri": "https://localhost:8080/"
        },
        "id": "5Y4OiyjZPswR",
        "outputId": "ff22ee40-1d8a-4f48-c485-0bf50a7f549b"
      },
      "outputs": [
        {
          "name": "stdout",
          "output_type": "stream",
          "text": [
            "DET\n",
            "NOUN\n",
            "ADP\n",
            "NOUN\n"
          ]
        }
      ],
      "source": [
        "for token in sentenca:\n",
        "\tprint(token.tag_)"
      ]
    },
    {
      "cell_type": "code",
      "execution_count": 16,
      "metadata": {
        "id": "PIdwTYavPumq"
      },
      "outputs": [],
      "source": [
        "from spacy import displacy"
      ]
    },
    {
      "cell_type": "code",
      "execution_count": 17,
      "metadata": {
        "colab": {
          "base_uri": "https://localhost:8080/",
          "height": 52
        },
        "id": "vQL3OUjtPxf3",
        "outputId": "cc286e72-5e81-451b-8714-05e698cbc1fc"
      },
      "outputs": [
        {
          "data": {
            "text/html": [
              "<span class=\"tex2jax_ignore\"><div class=\"entities\" style=\"line-height: 2.5; direction: ltr\">O \n",
              "<mark class=\"entity\" style=\"background: #ddd; padding: 0.45em 0.6em; margin: 0 0.25em; line-height: 1; border-radius: 0.35em;\">\n",
              "    Steve Jobs\n",
              "    <span style=\"font-size: 0.8em; font-weight: bold; line-height: 1; border-radius: 0.35em; vertical-align: middle; margin-left: 0.5rem\">PER</span>\n",
              "</mark>\n",
              " fundou a \n",
              "<mark class=\"entity\" style=\"background: #7aecec; padding: 0.45em 0.6em; margin: 0 0.25em; line-height: 1; border-radius: 0.35em;\">\n",
              "    Apple\n",
              "    <span style=\"font-size: 0.8em; font-weight: bold; line-height: 1; border-radius: 0.35em; vertical-align: middle; margin-left: 0.5rem\">ORG</span>\n",
              "</mark>\n",
              " em meados de 1976.</div></span>"
            ],
            "text/plain": [
              "<IPython.core.display.HTML object>"
            ]
          },
          "metadata": {},
          "output_type": "display_data"
        }
      ],
      "source": [
        "sentenca = nlp('O Steve Jobs fundou a Apple em meados de 1976.')\n",
        "\n",
        "displacy.render(sentenca, style='ent',jupyter=True)"
      ]
    },
    {
      "cell_type": "code",
      "execution_count": 18,
      "metadata": {
        "colab": {
          "base_uri": "https://localhost:8080/"
        },
        "id": "gQrvv3IpP2PU",
        "outputId": "540011bb-bcd5-4ddb-e131-a5f389786085"
      },
      "outputs": [
        {
          "name": "stdout",
          "output_type": "stream",
          "text": [
            "(Carlos,)\n"
          ]
        }
      ],
      "source": [
        "sentenca = nlp('O Carlos é brasileiro')\n",
        "\n",
        "print(sentenca.ents)"
      ]
    },
    {
      "cell_type": "code",
      "execution_count": 19,
      "metadata": {
        "colab": {
          "base_uri": "https://localhost:8080/"
        },
        "id": "uHg7iSvbP9mO",
        "outputId": "88fb7dba-0cca-448a-e882-6cf024978943"
      },
      "outputs": [
        {
          "name": "stdout",
          "output_type": "stream",
          "text": [
            "LOC\n"
          ]
        }
      ],
      "source": [
        "for ent in sentenca.ents:\n",
        "\tprint(ent.label_)"
      ]
    },
    {
      "cell_type": "code",
      "execution_count": 23,
      "metadata": {
        "colab": {
          "base_uri": "https://localhost:8080/"
        },
        "id": "hbyWyXa0QANb",
        "outputId": "15654c2a-f244-4af8-8fd6-1e616098156e"
      },
      "outputs": [
        {
          "data": {
            "text/plain": [
              "('LOC', 'MISC', 'ORG', 'PER')"
            ]
          },
          "execution_count": 23,
          "metadata": {},
          "output_type": "execute_result"
        }
      ],
      "source": [
        "# nlp.entity.labels\n",
        "nlp.get_pipe('ner').labels"
      ]
    },
    {
      "cell_type": "code",
      "execution_count": 24,
      "metadata": {
        "colab": {
          "base_uri": "https://localhost:8080/"
        },
        "id": "ogCOZZpjQLkB",
        "outputId": "10467d85-a8b8-4d01-db69-a72388a08ecc"
      },
      "outputs": [
        {
          "name": "stdout",
          "output_type": "stream",
          "text": [
            "O \n",
            "Carlos LOC\n",
            "é \n",
            "brasileiro \n"
          ]
        }
      ],
      "source": [
        "sentenca = nlp('O Carlos é brasileiro')\n",
        "\n",
        "for token in sentenca:\n",
        "  print(token,token.ent_type_)"
      ]
    },
    {
      "cell_type": "code",
      "execution_count": 25,
      "metadata": {
        "colab": {
          "base_uri": "https://localhost:8080/"
        },
        "id": "nfNpeVf7crnz",
        "outputId": "84daa58e-faea-4103-e81c-e98830b528bd"
      },
      "outputs": [
        {
          "name": "stdout",
          "output_type": "stream",
          "text": [
            "A True\n",
            "menina False\n",
            "de True\n",
            "verde False\n",
            "gosta False\n",
            "de True\n",
            "correr False\n",
            "aos True\n",
            "sábados False\n"
          ]
        }
      ],
      "source": [
        "sentenca = nlp('A menina de verde gosta de correr aos sábados')\n",
        "\n",
        "for token in sentenca:\n",
        "\tprint(token,token.is_stop)"
      ]
    },
    {
      "cell_type": "code",
      "execution_count": 26,
      "metadata": {
        "colab": {
          "base_uri": "https://localhost:8080/",
          "height": 441
        },
        "id": "dl7pI0AAQbjg",
        "outputId": "c825d753-39df-45b7-9251-917a20480362"
      },
      "outputs": [
        {
          "data": {
            "text/html": [
              "<span class=\"tex2jax_ignore\"><svg xmlns=\"http://www.w3.org/2000/svg\" xmlns:xlink=\"http://www.w3.org/1999/xlink\" xml:lang=\"pt\" id=\"cbc7c7d636fd4ccfa4a818a1c88b29cb-0\" class=\"displacy\" width=\"1625\" height=\"399.5\" direction=\"ltr\" style=\"max-width: none; height: 399.5px; color: #000000; background: #ffffff; font-family: Arial; direction: ltr\">\n",
              "<text class=\"displacy-token\" fill=\"currentColor\" text-anchor=\"middle\" y=\"309.5\">\n",
              "    <tspan class=\"displacy-word\" fill=\"currentColor\" x=\"50\">A</tspan>\n",
              "    <tspan class=\"displacy-tag\" dy=\"2em\" fill=\"currentColor\" x=\"50\">DET</tspan>\n",
              "</text>\n",
              "\n",
              "<text class=\"displacy-token\" fill=\"currentColor\" text-anchor=\"middle\" y=\"309.5\">\n",
              "    <tspan class=\"displacy-word\" fill=\"currentColor\" x=\"225\">menina</tspan>\n",
              "    <tspan class=\"displacy-tag\" dy=\"2em\" fill=\"currentColor\" x=\"225\">NOUN</tspan>\n",
              "</text>\n",
              "\n",
              "<text class=\"displacy-token\" fill=\"currentColor\" text-anchor=\"middle\" y=\"309.5\">\n",
              "    <tspan class=\"displacy-word\" fill=\"currentColor\" x=\"400\">de</tspan>\n",
              "    <tspan class=\"displacy-tag\" dy=\"2em\" fill=\"currentColor\" x=\"400\">ADP</tspan>\n",
              "</text>\n",
              "\n",
              "<text class=\"displacy-token\" fill=\"currentColor\" text-anchor=\"middle\" y=\"309.5\">\n",
              "    <tspan class=\"displacy-word\" fill=\"currentColor\" x=\"575\">verde</tspan>\n",
              "    <tspan class=\"displacy-tag\" dy=\"2em\" fill=\"currentColor\" x=\"575\">NOUN</tspan>\n",
              "</text>\n",
              "\n",
              "<text class=\"displacy-token\" fill=\"currentColor\" text-anchor=\"middle\" y=\"309.5\">\n",
              "    <tspan class=\"displacy-word\" fill=\"currentColor\" x=\"750\">gosta</tspan>\n",
              "    <tspan class=\"displacy-tag\" dy=\"2em\" fill=\"currentColor\" x=\"750\">VERB</tspan>\n",
              "</text>\n",
              "\n",
              "<text class=\"displacy-token\" fill=\"currentColor\" text-anchor=\"middle\" y=\"309.5\">\n",
              "    <tspan class=\"displacy-word\" fill=\"currentColor\" x=\"925\">de</tspan>\n",
              "    <tspan class=\"displacy-tag\" dy=\"2em\" fill=\"currentColor\" x=\"925\">SCONJ</tspan>\n",
              "</text>\n",
              "\n",
              "<text class=\"displacy-token\" fill=\"currentColor\" text-anchor=\"middle\" y=\"309.5\">\n",
              "    <tspan class=\"displacy-word\" fill=\"currentColor\" x=\"1100\">correr</tspan>\n",
              "    <tspan class=\"displacy-tag\" dy=\"2em\" fill=\"currentColor\" x=\"1100\">VERB</tspan>\n",
              "</text>\n",
              "\n",
              "<text class=\"displacy-token\" fill=\"currentColor\" text-anchor=\"middle\" y=\"309.5\">\n",
              "    <tspan class=\"displacy-word\" fill=\"currentColor\" x=\"1275\">aos</tspan>\n",
              "    <tspan class=\"displacy-tag\" dy=\"2em\" fill=\"currentColor\" x=\"1275\">ADP</tspan>\n",
              "</text>\n",
              "\n",
              "<text class=\"displacy-token\" fill=\"currentColor\" text-anchor=\"middle\" y=\"309.5\">\n",
              "    <tspan class=\"displacy-word\" fill=\"currentColor\" x=\"1450\">sábados</tspan>\n",
              "    <tspan class=\"displacy-tag\" dy=\"2em\" fill=\"currentColor\" x=\"1450\">NOUN</tspan>\n",
              "</text>\n",
              "\n",
              "<g class=\"displacy-arrow\">\n",
              "    <path class=\"displacy-arc\" id=\"arrow-cbc7c7d636fd4ccfa4a818a1c88b29cb-0-0\" stroke-width=\"2px\" d=\"M70,264.5 C70,177.0 215.0,177.0 215.0,264.5\" fill=\"none\" stroke=\"currentColor\"/>\n",
              "    <text dy=\"1.25em\" style=\"font-size: 0.8em; letter-spacing: 1px\">\n",
              "        <textPath xlink:href=\"#arrow-cbc7c7d636fd4ccfa4a818a1c88b29cb-0-0\" class=\"displacy-label\" startOffset=\"50%\" side=\"left\" fill=\"currentColor\" text-anchor=\"middle\">det</textPath>\n",
              "    </text>\n",
              "    <path class=\"displacy-arrowhead\" d=\"M70,266.5 L62,254.5 78,254.5\" fill=\"currentColor\"/>\n",
              "</g>\n",
              "\n",
              "<g class=\"displacy-arrow\">\n",
              "    <path class=\"displacy-arc\" id=\"arrow-cbc7c7d636fd4ccfa4a818a1c88b29cb-0-1\" stroke-width=\"2px\" d=\"M245,264.5 C245,2.0 750.0,2.0 750.0,264.5\" fill=\"none\" stroke=\"currentColor\"/>\n",
              "    <text dy=\"1.25em\" style=\"font-size: 0.8em; letter-spacing: 1px\">\n",
              "        <textPath xlink:href=\"#arrow-cbc7c7d636fd4ccfa4a818a1c88b29cb-0-1\" class=\"displacy-label\" startOffset=\"50%\" side=\"left\" fill=\"currentColor\" text-anchor=\"middle\">nsubj</textPath>\n",
              "    </text>\n",
              "    <path class=\"displacy-arrowhead\" d=\"M245,266.5 L237,254.5 253,254.5\" fill=\"currentColor\"/>\n",
              "</g>\n",
              "\n",
              "<g class=\"displacy-arrow\">\n",
              "    <path class=\"displacy-arc\" id=\"arrow-cbc7c7d636fd4ccfa4a818a1c88b29cb-0-2\" stroke-width=\"2px\" d=\"M420,264.5 C420,177.0 565.0,177.0 565.0,264.5\" fill=\"none\" stroke=\"currentColor\"/>\n",
              "    <text dy=\"1.25em\" style=\"font-size: 0.8em; letter-spacing: 1px\">\n",
              "        <textPath xlink:href=\"#arrow-cbc7c7d636fd4ccfa4a818a1c88b29cb-0-2\" class=\"displacy-label\" startOffset=\"50%\" side=\"left\" fill=\"currentColor\" text-anchor=\"middle\">case</textPath>\n",
              "    </text>\n",
              "    <path class=\"displacy-arrowhead\" d=\"M420,266.5 L412,254.5 428,254.5\" fill=\"currentColor\"/>\n",
              "</g>\n",
              "\n",
              "<g class=\"displacy-arrow\">\n",
              "    <path class=\"displacy-arc\" id=\"arrow-cbc7c7d636fd4ccfa4a818a1c88b29cb-0-3\" stroke-width=\"2px\" d=\"M245,264.5 C245,89.5 570.0,89.5 570.0,264.5\" fill=\"none\" stroke=\"currentColor\"/>\n",
              "    <text dy=\"1.25em\" style=\"font-size: 0.8em; letter-spacing: 1px\">\n",
              "        <textPath xlink:href=\"#arrow-cbc7c7d636fd4ccfa4a818a1c88b29cb-0-3\" class=\"displacy-label\" startOffset=\"50%\" side=\"left\" fill=\"currentColor\" text-anchor=\"middle\">nmod</textPath>\n",
              "    </text>\n",
              "    <path class=\"displacy-arrowhead\" d=\"M570.0,266.5 L578.0,254.5 562.0,254.5\" fill=\"currentColor\"/>\n",
              "</g>\n",
              "\n",
              "<g class=\"displacy-arrow\">\n",
              "    <path class=\"displacy-arc\" id=\"arrow-cbc7c7d636fd4ccfa4a818a1c88b29cb-0-4\" stroke-width=\"2px\" d=\"M945,264.5 C945,177.0 1090.0,177.0 1090.0,264.5\" fill=\"none\" stroke=\"currentColor\"/>\n",
              "    <text dy=\"1.25em\" style=\"font-size: 0.8em; letter-spacing: 1px\">\n",
              "        <textPath xlink:href=\"#arrow-cbc7c7d636fd4ccfa4a818a1c88b29cb-0-4\" class=\"displacy-label\" startOffset=\"50%\" side=\"left\" fill=\"currentColor\" text-anchor=\"middle\">mark</textPath>\n",
              "    </text>\n",
              "    <path class=\"displacy-arrowhead\" d=\"M945,266.5 L937,254.5 953,254.5\" fill=\"currentColor\"/>\n",
              "</g>\n",
              "\n",
              "<g class=\"displacy-arrow\">\n",
              "    <path class=\"displacy-arc\" id=\"arrow-cbc7c7d636fd4ccfa4a818a1c88b29cb-0-5\" stroke-width=\"2px\" d=\"M770,264.5 C770,89.5 1095.0,89.5 1095.0,264.5\" fill=\"none\" stroke=\"currentColor\"/>\n",
              "    <text dy=\"1.25em\" style=\"font-size: 0.8em; letter-spacing: 1px\">\n",
              "        <textPath xlink:href=\"#arrow-cbc7c7d636fd4ccfa4a818a1c88b29cb-0-5\" class=\"displacy-label\" startOffset=\"50%\" side=\"left\" fill=\"currentColor\" text-anchor=\"middle\">xcomp</textPath>\n",
              "    </text>\n",
              "    <path class=\"displacy-arrowhead\" d=\"M1095.0,266.5 L1103.0,254.5 1087.0,254.5\" fill=\"currentColor\"/>\n",
              "</g>\n",
              "\n",
              "<g class=\"displacy-arrow\">\n",
              "    <path class=\"displacy-arc\" id=\"arrow-cbc7c7d636fd4ccfa4a818a1c88b29cb-0-6\" stroke-width=\"2px\" d=\"M1295,264.5 C1295,177.0 1440.0,177.0 1440.0,264.5\" fill=\"none\" stroke=\"currentColor\"/>\n",
              "    <text dy=\"1.25em\" style=\"font-size: 0.8em; letter-spacing: 1px\">\n",
              "        <textPath xlink:href=\"#arrow-cbc7c7d636fd4ccfa4a818a1c88b29cb-0-6\" class=\"displacy-label\" startOffset=\"50%\" side=\"left\" fill=\"currentColor\" text-anchor=\"middle\">case</textPath>\n",
              "    </text>\n",
              "    <path class=\"displacy-arrowhead\" d=\"M1295,266.5 L1287,254.5 1303,254.5\" fill=\"currentColor\"/>\n",
              "</g>\n",
              "\n",
              "<g class=\"displacy-arrow\">\n",
              "    <path class=\"displacy-arc\" id=\"arrow-cbc7c7d636fd4ccfa4a818a1c88b29cb-0-7\" stroke-width=\"2px\" d=\"M1120,264.5 C1120,89.5 1445.0,89.5 1445.0,264.5\" fill=\"none\" stroke=\"currentColor\"/>\n",
              "    <text dy=\"1.25em\" style=\"font-size: 0.8em; letter-spacing: 1px\">\n",
              "        <textPath xlink:href=\"#arrow-cbc7c7d636fd4ccfa4a818a1c88b29cb-0-7\" class=\"displacy-label\" startOffset=\"50%\" side=\"left\" fill=\"currentColor\" text-anchor=\"middle\">obl</textPath>\n",
              "    </text>\n",
              "    <path class=\"displacy-arrowhead\" d=\"M1445.0,266.5 L1453.0,254.5 1437.0,254.5\" fill=\"currentColor\"/>\n",
              "</g>\n",
              "</svg></span>"
            ],
            "text/plain": [
              "<IPython.core.display.HTML object>"
            ]
          },
          "metadata": {},
          "output_type": "display_data"
        }
      ],
      "source": [
        "displacy.render(sentenca, style='dep',jupyter=True)"
      ]
    },
    {
      "cell_type": "code",
      "execution_count": 27,
      "metadata": {
        "colab": {
          "base_uri": "https://localhost:8080/"
        },
        "id": "FkTu3qL0Qf30",
        "outputId": "be437510-1b1c-473a-d376-af1380766ac7"
      },
      "outputs": [
        {
          "name": "stdout",
          "output_type": "stream",
          "text": [
            "[menina, gosta]\n",
            "[de]\n"
          ]
        }
      ],
      "source": [
        "print(list(sentenca[3].ancestors))\n",
        "print(list(sentenca[3].children))"
      ]
    },
    {
      "cell_type": "markdown",
      "metadata": {
        "id": "5SC3oN4bRmgi"
      },
      "source": [
        "# Projeto Final"
      ]
    },
    {
      "cell_type": "code",
      "execution_count": 31,
      "metadata": {
        "id": "Gd-9V9cKRokb"
      },
      "outputs": [],
      "source": [
        "def findAuthor(caminho):\n",
        "  tokens = nlp(open(caminho,'r').read().replace('\\n',' '))\n",
        "\n",
        "  ents = [x for x in tokens.ents]\n",
        "\n",
        "  freq = {}\n",
        "\n",
        "  for x in ents:\n",
        "      if x.label_ == 'PER':\n",
        "          if x.text not in freq.keys():\n",
        "              freq[x.text] = 1\n",
        "          else:\n",
        "              freq[x.text] += 1\n",
        "\n",
        "  maior = -1\n",
        "  elel = None\n",
        "  for key in freq.keys():\n",
        "      if freq[key] > maior:\n",
        "          maior = freq[key]\n",
        "          elel = key\n",
        "  return elel"
      ]
    },
    {
      "cell_type": "code",
      "execution_count": 29,
      "metadata": {
        "id": "VhOa_6lEyGRs"
      },
      "outputs": [],
      "source": [
        "from os.path import isfile, join\n",
        "from os import listdir\n",
        "path = 'biografias'\n",
        "\n",
        "files = ['{}/{}'.format(path,f) for f in listdir(path) if isfile(join(path,f))]"
      ]
    },
    {
      "cell_type": "code",
      "execution_count": 36,
      "metadata": {
        "id": "gZ7swdDa7C4j"
      },
      "outputs": [
        {
          "name": "stdout",
          "output_type": "stream",
          "text": [
            "biografias/ruth_rocha \t Ruth Rocha\n",
            "biografias/pitagoras \t Pitágoras\n",
            "biografias/cristiano_ronaldo \t Cristiano Ronaldo\n",
            "biografias/euclides_cunha \t Euclides da Cunha\n",
            "biografias/domjoao_vi \t Dom João VI\n",
            "biografias/olavo_de_carvalho \t Olavo de Carvalho\n",
            "biografias/sansao \t Dalila\n",
            "biografias/lionel_messi \t Lionel Messi\n",
            "biografias/santo_antonio_de_lisboa \t Santo Antônio\n",
            "biografias/jean_paul_sartre \t Sartre\n",
            "biografias/dorival_caymmi \t Caymmi\n",
            "biografias/santos_dumont \t Santos Dumont\n",
            "biografias/joao_batista \t João\n",
            "biografias/pele \t Pelé\n",
            "biografias/oscar_niemeyer \t Oscar Niemeyer\n",
            "biografias/oswald_andrade \t Oswald de Andrade\n",
            "biografias/ana_maria_machado \t Ana Maria Machado\n",
            "biografias/sao_pedro \t Pedro\n",
            "biografias/guimaraes_rosa \t Guimarães Rosa\n",
            "biografias/michael_jackson \t Michael\n",
            "biografias/maria_quiteria \t Maria Quitéria\n",
            "biografias/henri_matisse \t Matisse\n",
            "biografias/tales_de_mileto \t Tales de Mileto\n",
            "biografias/candido_portinari \t Portinari\n",
            "biografias/barao_de_coubertin \t Barão de Coubertin\n",
            "biografias/pablo_picasso \t Picasso\n",
            "biografias/nicolau_copernico \t Copérnico\n",
            "biografias/henry_ford \t Henry Ford\n",
            "biografias/lasar_segall \t Lasar Segall\n",
            "biografias/barao_riobranco \t Cadeira\n",
            "biografias/bocage \t Bocage\n",
            "biografias/louis_pasteur \t Pasteur\n",
            "biografias/buda \t Buda\n",
            "biografias/sigmund_freud \t Freud\n",
            "biografias/carmen_miranda \t Carmen Miranda\n",
            "biografias/joaquim_manuel_de_macedo \t Joaquim Manuel de Macedo\n",
            "biografias/juscelino_kubitschek \t Juscelino Kubitschek\n",
            "biografias/erico_verissimo \t Érico Veríssimo\n",
            "biografias/beethoven \t Beethoven\n",
            "biografias/fagundes_varela \t Fagundes Varela\n",
            "biografias/florence_nightingale \t Florence Nightingale\n",
            "biografias/ariano_suassuna \t Ariano Suassuna\n",
            "biografias/niels_bohr \t Niels Bohr\n",
            "biografias/tiradentes \t Tiradentes\n",
            "biografias/joana_darc \t Joana\n",
            "biografias/zumbi \t Zumbi\n",
            "biografias/duque_caxias \t Duque de Caxias\n",
            "biografias/anne_frank \t Anne Frank\n",
            "biografias/salvador_dali \t Dalí\n",
            "biografias/graciliano_ramos \t Graciliano Ramos\n",
            "biografias/napoleao_bonaparte \t Napoleão\n",
            "biografias/michel_foucault \t Michel Foucault\n",
            "biografias/jacques_bossuet \t Jacques Bossuet\n",
            "biografias/stephen_hawking \t Stephen\n",
            "biografias/antonio_vieira \t Padre Antônio Vieira\n",
            "biografias/clarice_lispector \t Clarice\n",
            "biografias/monteiro_lobato \t Monteiro Lobato\n",
            "biografias/emile_durkheim \t Durkheim\n",
            "biografias/sao_mateus \t Jesus\n",
            "biografias/elizabeth_ii \t Elizabeth\n",
            "biografias/santo_agostinho \t Santo Agostinho\n",
            "biografias/carlos_drummond \t Drummond\n",
            "biografias/allan_kardec \t Allan Kardec\n",
            "biografias/henrique_viii \t Henrique VIII\n",
            "biografias/caetano_veloso \t Caetano Veloso\n",
            "biografias/luis_fernando_verissimo \t Luis Fernando Verissimo\n",
            "biografias/antoine_lavoisier \t Lavoisier\n",
            "biografias/joao_cabral_de_melo_neto \t João Cabral\n",
            "biografias/ayrton_senna \t Ayrton Senna\n",
            "biografias/deodoro_fonseca \t Deodoro\n",
            "biografias/cristovao_colombo \t Colombo\n",
            "biografias/cecilia_meireles \t Cecília Meireles\n",
            "biografias/sebastiao_salgado \t Sebastião Salgado\n",
            "biografias/charles_darwin \t Darwin\n",
            "biografias/max_weber \t Max Weber\n",
            "biografias/luiz_inacio_lula_silva \t Lula\n",
            "biografias/platao \t Platão\n",
            "biografias/vik_muniz \t Vik Muniz\n",
            "biografias/cora_coralina \t Cora Coralina\n",
            "biografias/jean_jacques_rousseau \t Rousseau\n",
            "biografias/rafael_sanzio \t Rafael Sanzio\n",
            "biografias/luiz_gonzaga \t Luiz Gonzaga\n",
            "biografias/bob_marley \t Marley\n",
            "biografias/sao_francisco_de_assis \t Francisco\n",
            "biografias/roberto_carlos \t Roberto Carlos\n",
            "biografias/j_k_rowling \t J. K. Rowling\n",
            "biografias/salomao \t Salomão\n",
            "biografias/bill_gates \t Bill Gates\n",
            "biografias/neymar \t Neymar\n",
            "biografias/gil_vicente \t Gil Vicente\n",
            "biografias/carlos_chagas \t Carlos Chagas\n",
            "biografias/gilberto_freyre \t Gilberto Freyre\n",
            "biografias/ana_neri \t Ana Néri\n",
            "biografias/mahatma_ghandi \t Gandhi\n",
            "biografias/zilda_arns \t Zilda Arns\n",
            "biografias/anita_malfatti \t Anita Malfatti\n",
            "biografias/isaac_newton \t Isaac Newton\n",
            "biografias/rosa_parks \t Rosa\n",
            "biografias/jose_alencar \t José de Alencar\n",
            "biografias/karl_marx \t Marx\n",
            "biografias/chica_da_silva \t Chica da Silva\n",
            "biografias/alan_turing \t Alan Turing\n",
            "biografias/joao_evangelista \t Jesus\n",
            "biografias/elvis_presley \t Elvis\n",
            "biografias/joseph_john_thomson \t Thomson\n",
            "biografias/betinho \t Betinho\n",
            "biografias/aluisio_azevedo \t Aluísio Azevedo\n",
            "biografias/antero_quental \t Antero de Quental\n",
            "biografias/rubem_braga \t Rubem Braga\n",
            "biografias/tarsila_amaral \t Tarsila\n",
            "biografias/casimiro_abreu \t Casimiro de Abreu\n",
            "biografias/pedro_cabral \t Cabral\n",
            "biografias/lady_gaga \t Lady Gaga\n",
            "biografias/tomas_de_aquino \t Tomás de Aquino\n",
            "biografias/rainha_vitoria \t Rainha Vitória\n",
            "biografias/marechal_rondon \t Rondon\n",
            "biografias/francis_bacon \t Bacon\n",
            "biografias/oscar_wilde \t Oscar Wilde\n",
            "biografias/van_gogh \t Van Gogh\n",
            "biografias/florestan_fernandes \t Florestan Fernandes\n",
            "biografias/maome \t Maomé\n",
            "biografias/antoine_de_saint_exupery \t Antoine de Saint-Exupéry\n",
            "biografias/getulio_vargas \t Getúlio Vargas\n",
            "biografias/socrates \t Sócrates\n",
            "biografias/raul_seixas \t Raul\n",
            "biografias/friedrich_nietzsche \t Nietzsche\n",
            "biografias/manuel_bandeira \t Manuel Bandeira\n",
            "biografias/patativa_assare \t Patativa do Assaré\n",
            "biografias/moises \t Moisés\n",
            "biografias/elizabeth_i \t Elizabeth\n",
            "biografias/gregor_mendel \t Mendel\n",
            "biografias/carolina_maria_de_jesus \t Carolina Maria de Jesus\n",
            "biografias/edgar_allan_poe \t Edgar Allan Poe\n",
            "biografias/di_cavalcanti \t Di Cavalcanti\n",
            "biografias/martin_luther_king \t Martin Luther King\n",
            "biografias/voltaire \t Voltaire\n",
            "biografias/the_beatles \t John Lennon\n",
            "biografias/thomas_hobbes \t Hobbes\n",
            "biografias/lygia_fagundes_telles \t Lygia Fagundes Telles\n",
            "biografias/cazuza \t Cazuza\n",
            "biografias/madre_calcuta \t Madre Teresa de Calcutá\n",
            "biografias/benjamin_franklin \t Benjamin Franklin\n",
            "biografias/romero_britto \t Romero Britto\n",
            "biografias/martinho_lutero \t Lutero\n",
            "biografias/augusto_anjos \t Augusto dos Anjos\n",
            "biografias/cruz_e_sousa \t Cruz e Sousa\n",
            "biografias/mario_andrade \t Mário de Andrade\n",
            "biografias/arquimedes \t Arquimedes\n",
            "biografias/blaise_pascal \t Blaise Pascal\n",
            "biografias/dalai_lama \t Dalai Lama\n",
            "biografias/nikola_tesla \t Tesla\n",
            "biografias/auguste_comte \t Comte\n",
            "biografias/miguel_cervantes \t Miguel de Cervantes\n",
            "biografias/dompedro_ii \t Dom Pedro II\n",
            "biografias/lampiao \t Lampião\n",
            "biografias/joan_miro \t Joan Miró\n",
            "biografias/aristoteles \t Aristóteles\n",
            "biografias/aleijadinho \t Aleijadinho\n",
            "biografias/adam_smith \t Adam Smith\n",
            "biografias/edvard_munch \t Edvard Munch\n",
            "biografias/thomas_edison \t Thomas Edison\n",
            "biografias/frida_kahlo \t Frida\n",
            "biografias/nicolau_maquiavel \t Maquiavel\n",
            "biografias/chico_xavier \t Chico Xavier\n",
            "biografias/eca_queiroz \t Eça de Queirós\n",
            "biografias/jose_anchieta \t José de Anchieta\n",
            "biografias/benito_mussolini \t Mussolini\n",
            "biografias/wolfgang_amadeus_mozart \t Mozart\n",
            "biografias/euclides \t Euclides\n",
            "biografias/ricardo_reis \t Ricardo Reis\n",
            "biografias/florbela_espanca \t Florbela\n",
            "biografias/almeida_junior \t Almeida Júnior\n",
            "biografias/princesa_diana \t Diana\n",
            "biografias/renato_russo \t Renato Russo\n",
            "biografias/charles_augustin_de_coulomb \t Charles Augustin de Coulomb\n",
            "biografias/pedro_bandeira \t Pedro Bandeira\n",
            "biografias/galileu_galilei \t Galileu Galilei\n",
            "biografias/princesa_isabel \t Princesa Isabel\n",
            "biografias/jair_bolsonaro \t Jair Bolsonaro\n",
            "biografias/michelangelo \t Michelangelo\n",
            "biografias/murilo_mendes \t Murilo Mendes\n",
            "biografias/fernando_pessoa \t Fernando Pessoa\n",
            "biografias/alfredo_volpi \t Volpi\n",
            "biografias/mario_quintana \t Mário Quintana\n",
            "biografias/rachel_queiroz \t Rachel de Queiroz\n",
            "biografias/daniel_fahrenheit \t Daniel Gabriel Fahrenheit\n",
            "biografias/abraao \t Abraão\n",
            "biografias/alvares_azevedo \t Álvares de Azevedo\n",
            "biografias/alphonsus_guimaraens \t Alphonsus de Guimaraens\n",
            "biografias/albert_einstein \t Einstein\n",
            "biografias/william_shakespeare \t Shakespeare\n",
            "biografias/naama \t Eliseu\n",
            "biografias/epicuro \t Epicuro\n",
            "biografias/machado_assis \t Machado de Assis\n",
            "biografias/marta \t Marta\n",
            "biografias/jorge_amado \t Jorge Amado\n",
            "biografias/gilberto_gil \t Gilberto Gil\n",
            "biografias/antonio_jobim \t Tom Jobim\n",
            "biografias/luis_camoes \t Camões\n",
            "biografias/dompedro_i \t Dom Pedro\n",
            "biografias/marie_curie \t Marie Curie\n",
            "biografias/davi \t Davi\n",
            "biografias/chico_buarque \t Chico\n",
            "biografias/john_locke \t John Locke\n",
            "biografias/lima_barreto \t Lima Barreto\n",
            "biografias/fernando_henrique_cardoso \t Fernando Henrique\n",
            "biografias/malala \t Malala Yousafzai\n",
            "biografias/gregorio_matos \t Gregório de Matos\n",
            "biografias/castro_alves \t Castro Alves\n",
            "biografias/chico_mendes \t Chico Mendes\n",
            "biografias/heraclito \t Heráclito\n",
            "biografias/nelson_mandela \t Mandela\n",
            "biografias/dilma_rousseff \t Lula\n",
            "biografias/bhaskara \t Bhaskara Akaria\n",
            "biografias/judas_iscariotes \t Jesus\n",
            "biografias/olavo_bilac \t Olavo Bilac\n",
            "biografias/bernardo_guimaraes \t Bernardo Guimarães\n",
            "biografias/ferreira_gullar \t Ferreira Gullar\n",
            "biografias/abraham_lincoln \t Lincoln\n",
            "biografias/claude_monet \t Monet\n",
            "biografias/mestre_vitalino \t Mestre Vitalino\n",
            "biografias/rene_descartes \t René Descartes\n",
            "biografias/immanuel_kant \t Kant\n",
            "biografias/chiquinha_gonzaga \t Chiquinha Gonzaga\n",
            "biografias/sao_paulo \t Saulo\n",
            "biografias/heitor_villa_lobos \t Heitor Villa-Lobos\n",
            "biografias/ziraldo \t Ziraldo\n",
            "biografias/mauricio_de_sousa \t Mauricio\n",
            "biografias/hegel \t Hegel\n",
            "biografias/elis_regina \t Elis\n",
            "biografias/barack_obama \t Barack Obama\n",
            "biografias/walt_disney \t Walt Disney\n",
            "biografias/luan_santana \t Luan Santana\n",
            "biografias/leonardo_vinci \t Leonardo da Vinci\n",
            "biografias/vinicius_de_moraes \t Vinicius\n",
            "biografias/anita_garibaldi \t Anita\n",
            "biografias/silvio_santos \t Silvio\n",
            "biografias/charles_chaplin \t Charles Chaplin\n",
            "biografias/goncalves_dias \t Gonçalves Dias\n",
            "biografias/irma_dulce \t Irmã Dulce\n",
            "biografias/wassily_kandinsky \t Kandinsky\n"
          ]
        }
      ],
      "source": [
        "for file in files:\n",
        "  print(file,'\\t',findAuthor(file))"
      ]
    },
    {
      "cell_type": "code",
      "execution_count": 37,
      "metadata": {
        "colab": {
          "base_uri": "https://localhost:8080/"
        },
        "id": "x0no5SpTSDqC",
        "outputId": "a7e413f0-0b81-4c53-9089-e7058bb0c28f"
      },
      "outputs": [
        {
          "name": "stdout",
          "output_type": "stream",
          "text": [
            "Bhaskara Akaria\n",
            "Saulo\n"
          ]
        }
      ],
      "source": [
        "# Casos complicados:\n",
        "\n",
        "# bhaskara')\n",
        "# sao_paulo\n",
        "\n",
        "print(findAuthor('biografias/bhaskara'))\n",
        "print(findAuthor('biografias/sao_paulo'))"
      ]
    }
  ],
  "metadata": {
    "colab": {
      "collapsed_sections": [],
      "name": "Workshop 03-06-2022.ipynb",
      "provenance": []
    },
    "interpreter": {
      "hash": "916dbcbb3f70747c44a77c7bcd40155683ae19c65e1c03b4aa3499c5328201f1"
    },
    "kernelspec": {
      "display_name": "Python 3.8.10 64-bit",
      "language": "python",
      "name": "python3"
    },
    "language_info": {
      "codemirror_mode": {
        "name": "ipython",
        "version": 3
      },
      "file_extension": ".py",
      "mimetype": "text/x-python",
      "name": "python",
      "nbconvert_exporter": "python",
      "pygments_lexer": "ipython3",
      "version": "3.8.10"
    }
  },
  "nbformat": 4,
  "nbformat_minor": 0
}
